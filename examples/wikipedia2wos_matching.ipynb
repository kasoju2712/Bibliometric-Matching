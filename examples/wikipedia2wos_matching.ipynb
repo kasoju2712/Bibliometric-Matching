{
 "cells": [
  {
   "cell_type": "code",
   "execution_count": 1,
   "metadata": {},
   "outputs": [],
   "source": [
    "%matplotlib inline\n",
    "%load_ext autoreload\n",
    "%autoreload 2"
   ]
  },
  {
   "cell_type": "code",
   "execution_count": 12,
   "metadata": {},
   "outputs": [],
   "source": [
    "import pandas as pd\n",
    "import numpy as np\n",
    "\n",
    "import time\n",
    "import os\n",
    "\n",
    "from bibmatch.authorclass import author\n",
    "import bibmatch.fast_match_utilities as fmu\n",
    "\n",
    "import bibmatch.clean_data as clean_data\n",
    "import bibmatch.parse_web  as parse_web\n",
    "import bibmatch.load_data as load_data\n",
    "\n",
    "from bibmatch.parse_wos import parse_wos_authors, load_wos_data\n"
   ]
  },
  {
   "cell_type": "code",
   "execution_count": 3,
   "metadata": {},
   "outputs": [],
   "source": [
    "path2rawdata='/Users/ajgates/DropBox/WOSsample/'"
   ]
  },
  {
   "cell_type": "code",
   "execution_count": 4,
   "metadata": {},
   "outputs": [
    {
     "name": "stdout",
     "output_type": "stream",
     "text": [
      "Final DF Shape (515655, 4)\n",
      "(515655, 4)\n",
      "108780  authors\n",
      "Completed in 3.823384\n"
     ]
    }
   ],
   "source": [
    "st = time.time()\n",
    "author_df = load_wos_data(name = 'authorship', year_list = None, path2rawdata=path2rawdata,\n",
    "                          columns = ['ArticleID', 'AuthorDAIS', 'FullName', 'AuthorOrder'], \n",
    "                          dropna = ['AuthorDAIS'], \n",
    "                          duplicate_subset = ['ArticleID', 'AuthorDAIS'],\n",
    "                          isindict = None, \n",
    "                             verbose = 100)\n",
    "                              \n",
    "print(author_df.shape)\n",
    "print(author_df['AuthorDAIS'].nunique(), \" authors\")\n",
    "author_articles = np.sort(author_df['ArticleID'].unique())\n",
    "\n",
    "print(\"Completed in %f\" % (time.time() - st))"
   ]
  },
  {
   "cell_type": "code",
   "execution_count": 5,
   "metadata": {},
   "outputs": [
    {
     "name": "stdout",
     "output_type": "stream",
     "text": [
      "Final DF Shape (322895, 3)\n",
      "(322895, 3)\n",
      "Completed in 12.553882\n"
     ]
    }
   ],
   "source": [
    "st = time.time()\n",
    "article_df = load_wos_data(name = 'article', year_list = None, path2rawdata=path2rawdata,\n",
    "                          columns = ['ArticleID', 'Title','PubYear'], \n",
    "                          dropna = ['ArticleID', 'Title'], \n",
    "                          duplicate_subset = ['ArticleID'],\n",
    "                          isindict = {'ArticleID':author_articles}, \n",
    "                             verbose = 100)\n",
    "                              \n",
    "print(article_df.shape)\n",
    "#del article_df['Doctypes']\n",
    "print(\"Completed in %f\" % (time.time() - st))"
   ]
  },
  {
   "cell_type": "code",
   "execution_count": 6,
   "metadata": {},
   "outputs": [
    {
     "name": "stdout",
     "output_type": "stream",
     "text": [
      "Final DF Shape (308, 3)\n",
      "(308, 3)\n",
      "Completed in 0.268918\n"
     ]
    }
   ],
   "source": [
    "st = time.time()\n",
    "address_df = load_wos_data(name = 'address', year_list = None, path2rawdata=path2rawdata,\n",
    "                          columns = ['ArticleID', 'AuthorOrder', 'Organization'], \n",
    "                          dropna = ['ArticleID'], \n",
    "                          duplicate_subset = ['ArticleID'],\n",
    "                          isindict = None, \n",
    "                             verbose = 100)\n",
    "print(address_df.shape)                              \n",
    "print(\"Completed in %f\" % (time.time() - st))"
   ]
  },
  {
   "cell_type": "code",
   "execution_count": 7,
   "metadata": {},
   "outputs": [
    {
     "name": "stdout",
     "output_type": "stream",
     "text": [
      "(515655, 7)\n"
     ]
    }
   ],
   "source": [
    "full_df = author_df.merge(article_df, how='left', on='ArticleID')\n",
    "full_df = full_df.merge(address_df, how='left', on=['ArticleID', 'AuthorOrder'])\n",
    "\n",
    "print(full_df.shape)"
   ]
  },
  {
   "cell_type": "code",
   "execution_count": 8,
   "metadata": {},
   "outputs": [],
   "source": [
    "# run this once to process the author co-author lists\n",
    "# you can save and re-use the resulting dataframes\n",
    "\n",
    "def join_article_authors(namelist):\n",
    "    return \" | \".join(set(namelist))\n",
    "article_authors = author_df.dropna(subset=['FullName']).groupby('ArticleID')['FullName'].apply(join_article_authors).to_frame()\n",
    "article_authors.reset_index(inplace=True)\n",
    "article_authors['CoAuthors'] = article_authors['FullName']\n",
    "del article_authors['FullName']"
   ]
  },
  {
   "cell_type": "code",
   "execution_count": 9,
   "metadata": {},
   "outputs": [
    {
     "name": "stdout",
     "output_type": "stream",
     "text": [
      "(515655, 8)\n",
      "['ArticleID', 'AuthorDAIS', 'FullName', 'AuthorOrder', 'Title', 'PubYear', 'Organization', 'CoAuthors']\n"
     ]
    }
   ],
   "source": [
    "full_df = full_df.merge(article_authors, on='ArticleID', how='left')\n",
    "# remove the author from the co-author list\n",
    "full_df['CoAuthors'] = full_df.apply(lambda x: x['CoAuthors'].replace(x['FullName'], ''), axis=1)\n",
    "print(full_df.shape)\n",
    "print(list(full_df))"
   ]
  },
  {
   "cell_type": "code",
   "execution_count": 13,
   "metadata": {},
   "outputs": [],
   "source": [
    "alist = parse_wos_authors(full_df.iloc[:2000])"
   ]
  },
  {
   "cell_type": "code",
   "execution_count": 14,
   "metadata": {},
   "outputs": [
    {
     "data": {
      "text/plain": [
       "1904"
      ]
     },
     "execution_count": 14,
     "metadata": {},
     "output_type": "execute_result"
    }
   ],
   "source": [
    "len(alist)"
   ]
  },
  {
   "cell_type": "code",
   "execution_count": 15,
   "metadata": {},
   "outputs": [
    {
     "name": "stdout",
     "output_type": "stream",
     "text": [
      "Halpern, J\n",
      "All Names:  {'Halpern, J'}\n",
      "Institutions: set()\n",
      "Co-authors: ['Crane, HR', 'Oleson, NL']\n",
      "Articles\n"
     ]
    }
   ],
   "source": [
    "alist[10].print_author(list_articles=True)\n"
   ]
  },
  {
   "cell_type": "code",
   "execution_count": null,
   "metadata": {},
   "outputs": [],
   "source": [
    "print(alist[10].full_last_names)\n",
    "print(alist[10].full_first_names)\n",
    "print(alist[10].first_initials)"
   ]
  },
  {
   "cell_type": "code",
   "execution_count": null,
   "metadata": {},
   "outputs": [],
   "source": []
  }
 ],
 "metadata": {
  "kernelspec": {
   "display_name": "Python 3",
   "language": "python",
   "name": "python3"
  },
  "language_info": {
   "codemirror_mode": {
    "name": "ipython",
    "version": 3
   },
   "file_extension": ".py",
   "mimetype": "text/x-python",
   "name": "python",
   "nbconvert_exporter": "python",
   "pygments_lexer": "ipython3",
   "version": "3.7.0"
  }
 },
 "nbformat": 4,
 "nbformat_minor": 2
}
